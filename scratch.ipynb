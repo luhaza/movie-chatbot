{
 "cells": [
  {
   "cell_type": "markdown",
   "id": "9155a9ad",
   "metadata": {},
   "source": [
    "# Scratch\n",
    "\n",
    "Try using a Jupyter Notebook like we've provided here as a \"scratch pad\" for developing code. \n",
    "\n",
    "You can quickly test functions as modular pieces of your larger code. "
   ]
  },
  {
   "cell_type": "code",
   "execution_count": 51,
   "id": "e61bfb99",
   "metadata": {},
   "outputs": [],
   "source": [
    "import numpy as np # add more packages if you need them "
   ]
  },
  {
   "cell_type": "code",
   "execution_count": 52,
   "id": "7f75905a",
   "metadata": {},
   "outputs": [
    {
     "name": "stdout",
     "output_type": "stream",
     "text": [
      "The autoreload extension is already loaded. To reload it, use:\n",
      "  %reload_ext autoreload\n"
     ]
    }
   ],
   "source": [
    "from chatbot import * #imports all functions from chatbot.py\n",
    "\n",
    "# The lines below auto-reload the code you write in chatbot.py \n",
    "%load_ext autoreload\n",
    "%autoreload 2"
   ]
  },
  {
   "cell_type": "code",
   "execution_count": 77,
   "id": "be860aa2",
   "metadata": {},
   "outputs": [
    {
     "name": "stdout",
     "output_type": "stream",
     "text": [
      "(10000, 997) (10000,)\n"
     ]
    }
   ],
   "source": [
    "chatbot = Chatbot()"
   ]
  },
  {
   "cell_type": "code",
   "execution_count": 35,
   "id": "2144c237",
   "metadata": {},
   "outputs": [
    {
     "data": {
      "text/plain": [
       "'Hi! I am Letterbot, a chatbot that specializes in movie recommendations. How are you doing today?'"
      ]
     },
     "execution_count": 35,
     "metadata": {},
     "output_type": "execute_result"
    }
   ],
   "source": [
    "chatbot.greeting()"
   ]
  },
  {
   "cell_type": "code",
   "execution_count": 36,
   "id": "2539a199",
   "metadata": {},
   "outputs": [
    {
     "data": {
      "text/plain": [
       "['The', 'Notebook']"
      ]
     },
     "execution_count": 36,
     "metadata": {},
     "output_type": "execute_result"
    }
   ],
   "source": [
    "preprocessed_input = 'I liked \"The\" \"Notebook\" a lot.'\n",
    "chatbot.extract_titles(preprocessed_input)"
   ]
  },
  {
   "cell_type": "code",
   "execution_count": 37,
   "id": "9b8b7363",
   "metadata": {},
   "outputs": [
    {
     "data": {
      "text/plain": [
       "[1359, 2716]"
      ]
     },
     "execution_count": 37,
     "metadata": {},
     "output_type": "execute_result"
    }
   ],
   "source": [
    "input = 'Titanic'\n",
    "chatbot.find_movies_idx_by_title(input)"
   ]
  },
  {
   "cell_type": "code",
   "execution_count": 7,
   "id": "c7e94326",
   "metadata": {},
   "outputs": [
    {
     "name": "stdout",
     "output_type": "stream",
     "text": [
      "0\n"
     ]
    }
   ],
   "source": [
    "sentiment_output = chatbot.predict_sentiment_rule_based('I am')\n",
    "# 'I LOVE \"The Titanic\"'\n",
    "print(sentiment_output) # should print 1"
   ]
  },
  {
   "cell_type": "code",
   "execution_count": 60,
   "id": "771bf356",
   "metadata": {},
   "outputs": [
    {
     "name": "stdout",
     "output_type": "stream",
     "text": [
      "1\n"
     ]
    }
   ],
   "source": [
    "log_reg_predict = chatbot.predict_sentiment_statistical('This is great!')\n",
    "print(log_reg_predict) # should be 1"
   ]
  },
  {
   "cell_type": "code",
   "execution_count": 61,
   "id": "5bdc8cf5",
   "metadata": {},
   "outputs": [
    {
     "name": "stdout",
     "output_type": "stream",
     "text": [
      "-1\n"
     ]
    }
   ],
   "source": [
    "log_reg_predict = chatbot.predict_sentiment_statistical('This movie is the worst')\n",
    "print(log_reg_predict) # should be -1"
   ]
  },
  {
   "cell_type": "code",
   "execution_count": 62,
   "id": "d0d4bfa9",
   "metadata": {},
   "outputs": [
    {
     "name": "stdout",
     "output_type": "stream",
     "text": [
      "0\n"
     ]
    }
   ],
   "source": [
    "log_reg_predict = chatbot.predict_sentiment_statistical('blah')\n",
    "print(log_reg_predict) # should be 0"
   ]
  },
  {
   "cell_type": "code",
   "execution_count": 13,
   "id": "9ace9b06",
   "metadata": {},
   "outputs": [
    {
     "name": "stdout",
     "output_type": "stream",
     "text": [
      "['Trick or Treat (1986)', 'Dunston Checks In (1996)', 'Problem Child (1990)']\n"
     ]
    }
   ],
   "source": [
    "bot_recommends = chatbot.recommend_movies({100: 1, 202: -1, 303: 1, 404:1, 505: 1})\n",
    "print(bot_recommends) # prints ['Trick or Treat (1986)', 'Dunston Checks In (1996)', 'Problem Child (1990)']\n"
   ]
  },
  {
   "cell_type": "code",
   "execution_count": 85,
   "id": "5055e963",
   "metadata": {},
   "outputs": [
    {
     "name": "stdout",
     "output_type": "stream",
     "text": [
      "I dislike \"Kung Fu Panda 4\" and I love \"The Martian\"\n"
     ]
    }
   ],
   "source": [
    "# User types 'I liek \"Avatar\"' and the bot is able to correct \"liek\" to \"like\"\n",
    "spell_corrected = chatbot.spell_checker('I disliek \"Kung Fu Panda 4\" avd I lovi \"The Martian\"')\n",
    "print(spell_corrected)"
   ]
  },
  {
   "cell_type": "code",
   "execution_count": 78,
   "id": "b1ad5dcc",
   "metadata": {},
   "outputs": [
    {
     "name": "stdout",
     "output_type": "stream",
     "text": [
      "['American in Paris']\n"
     ]
    }
   ],
   "source": [
    "clean_articles = chatbot.clean_articles([\"An American in Paris\"])\n",
    "print(clean_articles) "
   ]
  },
  {
   "cell_type": "code",
   "execution_count": 84,
   "id": "5860552c",
   "metadata": {},
   "outputs": [
    {
     "name": "stdout",
     "output_type": "stream",
     "text": [
      "I'm sorry to hear that you are sad and tired, but I am glad to hear you are at least joyful. Good movies tend to make your day better. What's a movie you like?\n"
     ]
    }
   ],
   "source": [
    "emotion = chatbot.respond_emotion('I am sad and tired but also joyful')\n",
    "print(emotion)"
   ]
  }
 ],
 "metadata": {
  "kernelspec": {
   "display_name": "cs375",
   "language": "python",
   "name": "python3"
  },
  "language_info": {
   "codemirror_mode": {
    "name": "ipython",
    "version": 3
   },
   "file_extension": ".py",
   "mimetype": "text/x-python",
   "name": "python",
   "nbconvert_exporter": "python",
   "pygments_lexer": "ipython3",
   "version": "3.11.9"
  }
 },
 "nbformat": 4,
 "nbformat_minor": 5
}
