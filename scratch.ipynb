{
 "cells": [
  {
   "cell_type": "markdown",
   "id": "9155a9ad",
   "metadata": {},
   "source": [
    "# Scratch\n",
    "\n",
    "Try using a Jupyter Notebook like we've provided here as a \"scratch pad\" for developing code. \n",
    "\n",
    "You can quickly test functions as modular pieces of your larger code. "
   ]
  },
  {
   "cell_type": "code",
   "execution_count": 51,
   "id": "e61bfb99",
   "metadata": {},
   "outputs": [],
   "source": [
    "import numpy as np # add more packages if you need them "
   ]
  },
  {
   "cell_type": "code",
   "execution_count": 52,
   "id": "7f75905a",
   "metadata": {},
   "outputs": [
    {
     "name": "stdout",
     "output_type": "stream",
     "text": [
      "The autoreload extension is already loaded. To reload it, use:\n",
      "  %reload_ext autoreload\n"
     ]
    }
   ],
   "source": [
    "from chatbot import * #imports all functions from chatbot.py\n",
    "\n",
    "# The lines below auto-reload the code you write in chatbot.py \n",
    "%load_ext autoreload\n",
    "%autoreload 2"
   ]
  },
  {
   "cell_type": "code",
   "execution_count": 66,
   "id": "be860aa2",
   "metadata": {},
   "outputs": [
    {
     "name": "stdout",
     "output_type": "stream",
     "text": [
      "(10000, 997) (10000,)\n"
     ]
    }
   ],
   "source": [
    "chatbot = Chatbot()"
   ]
  },
  {
   "cell_type": "code",
   "execution_count": 35,
   "id": "2144c237",
   "metadata": {},
   "outputs": [
    {
     "data": {
      "text/plain": [
       "'Hi! I am Letterbot, a chatbot that specializes in movie recommendations. How are you doing today?'"
      ]
     },
     "execution_count": 35,
     "metadata": {},
     "output_type": "execute_result"
    }
   ],
   "source": [
    "chatbot.greeting()"
   ]
  },
  {
   "cell_type": "code",
   "execution_count": 36,
   "id": "2539a199",
   "metadata": {},
   "outputs": [
    {
     "data": {
      "text/plain": [
       "['The', 'Notebook']"
      ]
     },
     "execution_count": 36,
     "metadata": {},
     "output_type": "execute_result"
    }
   ],
   "source": [
    "preprocessed_input = 'I liked \"The\" \"Notebook\" a lot.'\n",
    "chatbot.extract_titles(preprocessed_input)"
   ]
  },
  {
   "cell_type": "code",
   "execution_count": 37,
   "id": "9b8b7363",
   "metadata": {},
   "outputs": [
    {
     "data": {
      "text/plain": [
       "[1359, 2716]"
      ]
     },
     "execution_count": 37,
     "metadata": {},
     "output_type": "execute_result"
    }
   ],
   "source": [
    "input = 'Titanic'\n",
    "chatbot.find_movies_idx_by_title(input)"
   ]
  },
  {
   "cell_type": "code",
   "execution_count": 7,
   "id": "c7e94326",
   "metadata": {},
   "outputs": [
    {
     "name": "stdout",
     "output_type": "stream",
     "text": [
      "0\n"
     ]
    }
   ],
   "source": [
    "sentiment_output = chatbot.predict_sentiment_rule_based('I am')\n",
    "# 'I LOVE \"The Titanic\"'\n",
    "print(sentiment_output) # should print 1"
   ]
  },
  {
   "cell_type": "code",
   "execution_count": 60,
   "id": "771bf356",
   "metadata": {},
   "outputs": [
    {
     "name": "stdout",
     "output_type": "stream",
     "text": [
      "1\n"
     ]
    }
   ],
   "source": [
    "log_reg_predict = chatbot.predict_sentiment_statistical('This is great!')\n",
    "print(log_reg_predict) # should be 1"
   ]
  },
  {
   "cell_type": "code",
   "execution_count": 61,
   "id": "5bdc8cf5",
   "metadata": {},
   "outputs": [
    {
     "name": "stdout",
     "output_type": "stream",
     "text": [
      "-1\n"
     ]
    }
   ],
   "source": [
    "log_reg_predict = chatbot.predict_sentiment_statistical('This movie is the worst')\n",
    "print(log_reg_predict) # should be -1"
   ]
  },
  {
   "cell_type": "code",
   "execution_count": 62,
   "id": "d0d4bfa9",
   "metadata": {},
   "outputs": [
    {
     "name": "stdout",
     "output_type": "stream",
     "text": [
      "0\n"
     ]
    }
   ],
   "source": [
    "log_reg_predict = chatbot.predict_sentiment_statistical('blah')\n",
    "print(log_reg_predict) # should be 0"
   ]
  },
  {
   "cell_type": "code",
   "execution_count": 13,
   "id": "9ace9b06",
   "metadata": {},
   "outputs": [
    {
     "name": "stdout",
     "output_type": "stream",
     "text": [
      "['Trick or Treat (1986)', 'Dunston Checks In (1996)', 'Problem Child (1990)']\n"
     ]
    }
   ],
   "source": [
    "bot_recommends = chatbot.recommend_movies({100: 1, 202: -1, 303: 1, 404:1, 505: 1})\n",
    "print(bot_recommends) # prints ['Trick or Treat (1986)', 'Dunston Checks In (1996)', 'Problem Child (1990)']\n"
   ]
  },
  {
   "cell_type": "code",
   "execution_count": 69,
   "id": "5055e963",
   "metadata": {},
   "outputs": [
    {
     "name": "stdout",
     "output_type": "stream",
     "text": [
      "I dislike \"Kung Fu Panda 4\" and I love \"The Martian\"\n"
     ]
    }
   ],
   "source": [
    "# User types 'I liek \"Avatar\"' and the bot is able to correct \"liek\" to \"like\"\n",
    "spell_corrected = chatbot.spell_checker('I disliek \"Kung Fu Panda 4\" avd I lovi \"The Martian\"')\n",
    "print(spell_corrected)"
   ]
  },
  {
   "cell_type": "code",
   "execution_count": 71,
   "id": "b1ad5dcc",
   "metadata": {},
   "outputs": [
    {
     "ename": "IndexError",
     "evalue": "list assignment index out of range",
     "output_type": "error",
     "traceback": [
      "\u001b[0;31m---------------------------------------------------------------------------\u001b[0m",
      "\u001b[0;31mIndexError\u001b[0m                                Traceback (most recent call last)",
      "Cell \u001b[0;32mIn[71], line 1\u001b[0m\n\u001b[0;32m----> 1\u001b[0m clean_articles \u001b[38;5;241m=\u001b[39m chatbot\u001b[38;5;241m.\u001b[39mclean_articles(\u001b[38;5;124m'\u001b[39m\u001b[38;5;124mI liked \u001b[39m\u001b[38;5;124m\"\u001b[39m\u001b[38;5;124mAn American in Paris\u001b[39m\u001b[38;5;124m\"\u001b[39m\u001b[38;5;124m'\u001b[39m)\n\u001b[1;32m      2\u001b[0m \u001b[38;5;28mprint\u001b[39m(clean_articles)\n",
      "File \u001b[0;32m~/Developer/cs375/movie-chatbot/chatbot.py:685\u001b[0m, in \u001b[0;36mChatbot.clean_articles\u001b[0;34m(self, titles)\u001b[0m\n\u001b[1;32m    683\u001b[0m \u001b[38;5;28;01mfor\u001b[39;00m index, title \u001b[38;5;129;01min\u001b[39;00m \u001b[38;5;28menumerate\u001b[39m(titles):\n\u001b[1;32m    684\u001b[0m     title \u001b[38;5;241m=\u001b[39m lowercase_articles(title)\n\u001b[0;32m--> 685\u001b[0m     titles[index] \u001b[38;5;241m=\u001b[39m title\u001b[38;5;241m.\u001b[39mreplace(\u001b[38;5;124m\"\u001b[39m\u001b[38;5;124mThe \u001b[39m\u001b[38;5;124m\"\u001b[39m, \u001b[38;5;124m\"\u001b[39m\u001b[38;5;124m\"\u001b[39m)\u001b[38;5;241m.\u001b[39mreplace(\u001b[38;5;124m\"\u001b[39m\u001b[38;5;124mAn \u001b[39m\u001b[38;5;124m\"\u001b[39m ,\u001b[38;5;124m\"\u001b[39m\u001b[38;5;124m\"\u001b[39m)\u001b[38;5;241m.\u001b[39mreplace(\u001b[38;5;124m\"\u001b[39m\u001b[38;5;124mA \u001b[39m\u001b[38;5;124m\"\u001b[39m, \u001b[38;5;124m\"\u001b[39m\u001b[38;5;124m\"\u001b[39m)\n\u001b[1;32m    687\u001b[0m \u001b[38;5;28;01mreturn\u001b[39;00m titles\n",
      "\u001b[0;31mIndexError\u001b[0m: list assignment index out of range"
     ]
    }
   ],
   "source": [
    "clean_articles = chatbot.clean_articles('I liked \"An American in Paris\"')\n",
    "print(clean_articles) "
   ]
  },
  {
   "cell_type": "code",
   "execution_count": 51,
   "id": "5860552c",
   "metadata": {},
   "outputs": [
    {
     "name": "stdout",
     "output_type": "stream",
     "text": [
      "I'm sorry to hear that you are sad. Here is a funny comedy movie that might cheer you up: . I hope the rest of your day is better!\n"
     ]
    }
   ],
   "source": [
    "emotion = chatbot.function2('I watched a sad movie')\n",
    "print(emotion)"
   ]
  }
 ],
 "metadata": {
  "kernelspec": {
   "display_name": "cs375",
   "language": "python",
   "name": "python3"
  },
  "language_info": {
   "codemirror_mode": {
    "name": "ipython",
    "version": 3
   },
   "file_extension": ".py",
   "mimetype": "text/x-python",
   "name": "python",
   "nbconvert_exporter": "python",
   "pygments_lexer": "ipython3",
   "version": "3.11.9"
  }
 },
 "nbformat": 4,
 "nbformat_minor": 5
}
